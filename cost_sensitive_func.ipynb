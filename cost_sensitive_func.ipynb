{
  "nbformat": 4,
  "nbformat_minor": 0,
  "metadata": {
    "colab": {
      "provenance": []
    },
    "kernelspec": {
      "name": "python3",
      "display_name": "Python 3"
    },
    "language_info": {
      "name": "python"
    }
  },
  "cells": [
    {
      "cell_type": "code",
      "execution_count": null,
      "metadata": {
        "id": "ooyptFoD2-tr",
        "colab": {
          "base_uri": "https://localhost:8080/"
        },
        "outputId": "b905d9a2-1be4-4609-89c4-8ae6d44924f1"
      },
      "outputs": [
        {
          "output_type": "stream",
          "name": "stdout",
          "text": [
            "Looking in indexes: https://pypi.org/simple, https://us-python.pkg.dev/colab-wheels/public/simple/\n",
            "Requirement already satisfied: plotnine==0.8.0 in /usr/local/lib/python3.8/dist-packages (0.8.0)\n",
            "Requirement already satisfied: mizani>=0.7.3 in /usr/local/lib/python3.8/dist-packages (from plotnine==0.8.0) (0.7.3)\n",
            "Requirement already satisfied: scipy>=1.5.0 in /usr/local/lib/python3.8/dist-packages (from plotnine==0.8.0) (1.7.3)\n",
            "Requirement already satisfied: matplotlib>=3.1.1 in /usr/local/lib/python3.8/dist-packages (from plotnine==0.8.0) (3.2.2)\n",
            "Requirement already satisfied: statsmodels>=0.12.1 in /usr/local/lib/python3.8/dist-packages (from plotnine==0.8.0) (0.12.2)\n",
            "Requirement already satisfied: descartes>=1.1.0 in /usr/local/lib/python3.8/dist-packages (from plotnine==0.8.0) (1.1.0)\n",
            "Requirement already satisfied: numpy>=1.19.0 in /usr/local/lib/python3.8/dist-packages (from plotnine==0.8.0) (1.21.6)\n",
            "Requirement already satisfied: patsy>=0.5.1 in /usr/local/lib/python3.8/dist-packages (from plotnine==0.8.0) (0.5.3)\n",
            "Requirement already satisfied: pandas>=1.1.0 in /usr/local/lib/python3.8/dist-packages (from plotnine==0.8.0) (1.3.5)\n",
            "Requirement already satisfied: kiwisolver>=1.0.1 in /usr/local/lib/python3.8/dist-packages (from matplotlib>=3.1.1->plotnine==0.8.0) (1.4.4)\n",
            "Requirement already satisfied: pyparsing!=2.0.4,!=2.1.2,!=2.1.6,>=2.0.1 in /usr/local/lib/python3.8/dist-packages (from matplotlib>=3.1.1->plotnine==0.8.0) (3.0.9)\n",
            "Requirement already satisfied: cycler>=0.10 in /usr/local/lib/python3.8/dist-packages (from matplotlib>=3.1.1->plotnine==0.8.0) (0.11.0)\n",
            "Requirement already satisfied: python-dateutil>=2.1 in /usr/local/lib/python3.8/dist-packages (from matplotlib>=3.1.1->plotnine==0.8.0) (2.8.2)\n",
            "Requirement already satisfied: palettable in /usr/local/lib/python3.8/dist-packages (from mizani>=0.7.3->plotnine==0.8.0) (3.3.0)\n",
            "Requirement already satisfied: pytz>=2017.3 in /usr/local/lib/python3.8/dist-packages (from pandas>=1.1.0->plotnine==0.8.0) (2022.7.1)\n",
            "Requirement already satisfied: six in /usr/local/lib/python3.8/dist-packages (from patsy>=0.5.1->plotnine==0.8.0) (1.15.0)\n"
          ]
        }
      ],
      "source": [
        "!pip install plotnine==0.8.0\n",
        "import numpy as np\n",
        "from statsmodels.distributions.empirical_distribution import ECDF\n",
        "from scipy.stats import beta, truncnorm\n",
        "from matplotlib import pyplot as plt\n",
        "import pandas as pd\n",
        "from plotnine import *"
      ]
    },
    {
      "cell_type": "code",
      "source": [
        "x = np.arange(0, 1.001, 0.001)\n",
        "theta = .1\n",
        "y = x[: int(theta * len(x))]\n",
        "z = x[int(theta * len(x)): ]\n",
        "lower = 0.00\n",
        "upper = 1.00\n",
        " # rename to theta\n",
        "sigma2 = 0.501638 # omega = 5\n",
        "# sigma2 = 0.419392 # omega = 10\n",
        "# sigma2 = 0.367685 # omega = 20\n",
        "# sigma2 = 0.331345# omega = 40\n",
        "# sigma2 = 0.304012 # omega = 80\n"
      ],
      "metadata": {
        "id": "wWVLrbDm3EkK"
      },
      "execution_count": null,
      "outputs": []
    },
    {
      "cell_type": "code",
      "source": [
        "import numpy as np\n",
        "from scipy.stats import truncnorm\n",
        "from scipy.optimize import minimize_scalar\n",
        "from matplotlib import pyplot as plt"
      ],
      "metadata": {
        "id": "frPl1UJJYT8A"
      },
      "execution_count": null,
      "outputs": []
    },
    {
      "cell_type": "code",
      "source": [
        "def TN(x, lower, upper, mu, sigma):\n",
        "\tx = np.array(x)\n",
        "\tshape_0, shape_1 = (lower - mu) / sigma, (upper - mu) / sigma\n",
        "\ttransform = truncnorm(shape_0, shape_1, loc=mu, scale=sigma)\n",
        "\treturn transform.pdf(x)"
      ],
      "metadata": {
        "id": "7nwCaAPiL3Yn"
      },
      "execution_count": null,
      "outputs": []
    },
    {
      "cell_type": "code",
      "source": [
        "def f2_ratio(sigma2=1, theta = 0, w = 5):\n",
        "    f2 = truncnorm(0, (1-theta)/sigma2, theta, sigma2)\n",
        "    m = f2.pdf(theta)\n",
        "    n = f2.pdf(1)\n",
        "    return (m/n-w)**2\n",
        "sigma_5 = minimize_scalar(f2_ratio, bounds=(.001, 1), method='bounded').x\n",
        "y_5 = TN(x, lower=0, upper=1, mu=0, sigma=sigma_5)\n",
        "df_5 = pd.DataFrame([list(x), [int(5)]*len(x), list(y_5)]).T"
      ],
      "metadata": {
        "id": "s1UEgJXYZT_5"
      },
      "execution_count": null,
      "outputs": []
    },
    {
      "cell_type": "code",
      "source": [
        "def f2_ratio(sigma2=1, theta = 0, w = 10):\n",
        "    f2 = truncnorm(0, (1-theta)/sigma2, theta, sigma2)\n",
        "    m = f2.pdf(theta)\n",
        "    n = f2.pdf(1)\n",
        "    return (m/n-w)**2\n",
        "sigma_10 = minimize_scalar(f2_ratio, bounds=(.001, 1), method='bounded').x\n",
        "y_10 = TN(x, lower=0, upper=1, mu=0, sigma=sigma_10)\n",
        "df_10 = pd.DataFrame([list(x), [int(10)]*len(x), list(y_10)]).T"
      ],
      "metadata": {
        "id": "UbETogNjY295"
      },
      "execution_count": null,
      "outputs": []
    },
    {
      "cell_type": "code",
      "source": [
        "def f2_ratio(sigma2=1, theta = 0, w = 15):\n",
        "    f2 = truncnorm(0, (1-theta)/sigma2, theta, sigma2)\n",
        "    m = f2.pdf(theta)\n",
        "    n = f2.pdf(1)\n",
        "    return (m/n-w)**2\n",
        "sigma_15 = minimize_scalar(f2_ratio, bounds=(.001, 1), method='bounded').x\n",
        "y_15 = TN(x, lower=0, upper=1, mu=0, sigma=sigma_15)\n",
        "df_15 = pd.DataFrame([list(x), [int(15)]*len(x), list(y_15)]).T"
      ],
      "metadata": {
        "id": "mKmYzCFnYYjW"
      },
      "execution_count": null,
      "outputs": []
    },
    {
      "cell_type": "code",
      "source": [
        "def f2_ratio(sigma2=1, theta = 0, w = 20):\n",
        "    f2 = truncnorm(0, (1-theta)/sigma2, theta, sigma2)\n",
        "    m = f2.pdf(theta)\n",
        "    n = f2.pdf(1)\n",
        "    return (m/n-w)**2\n",
        "sigma_20 = minimize_scalar(f2_ratio, bounds=(.001, 1), method='bounded').x\n",
        "y_20 = TN(x, lower=0, upper=1, mu=0, sigma=sigma_20)\n",
        "df_20 = pd.DataFrame([list(x), [int(20)]*len(x), list(y_20)]).T"
      ],
      "metadata": {
        "id": "qle9Fsrko9Bi"
      },
      "execution_count": null,
      "outputs": []
    },
    {
      "cell_type": "code",
      "source": [
        "def f2_ratio(sigma2=1, theta = 0, w = 30):\n",
        "    f2 = truncnorm(0, (1-theta)/sigma2, theta, sigma2)\n",
        "    m = f2.pdf(theta)\n",
        "    n = f2.pdf(1)\n",
        "    return (m/n-w)**2\n",
        "sigma_30 = minimize_scalar(f2_ratio, bounds=(.001, 1), method='bounded').x\n",
        "y_30 = TN(x, lower=0, upper=1, mu=0, sigma=sigma_30)\n",
        "df_30 = pd.DataFrame([list(x), [int(30)]*len(x), list(y_30)]).T"
      ],
      "metadata": {
        "id": "zjRMGjXvW37s"
      },
      "execution_count": null,
      "outputs": []
    },
    {
      "cell_type": "code",
      "source": [
        "def f2_ratio(sigma2=1, theta = 0, w = 40):\n",
        "    f2 = truncnorm(0, (1-theta)/sigma2, theta, sigma2)\n",
        "    m = f2.pdf(theta)\n",
        "    n = f2.pdf(1)\n",
        "    return (m/n-w)**2\n",
        "sigma_40 = minimize_scalar(f2_ratio, bounds=(.001, 1), method='bounded').x\n",
        "y_40 = TN(x, lower=0, upper=1, mu=0, sigma=sigma_40)\n",
        "df_40 = pd.DataFrame([list(x), [int(40)]*len(x), list(y_40)]).T"
      ],
      "metadata": {
        "id": "_1lhtpAnW2BY"
      },
      "execution_count": null,
      "outputs": []
    },
    {
      "cell_type": "code",
      "source": [
        "def f2_ratio(sigma2=1, theta = 0, w = 50):\n",
        "    f2 = truncnorm(0, (1-theta)/sigma2, theta, sigma2)\n",
        "    m = f2.pdf(theta)\n",
        "    n = f2.pdf(1)\n",
        "    return (m/n-w)**2\n",
        "sigma_50 = minimize_scalar(f2_ratio, bounds=(.001, 1), method='bounded').x\n",
        "y_50 = TN(x, lower=0, upper=1, mu=0, sigma=sigma_50)\n",
        "df_50 = pd.DataFrame([list(x), [int(50)]*len(x), list(y_50)]).T"
      ],
      "metadata": {
        "id": "obEJep9g4jlX"
      },
      "execution_count": null,
      "outputs": []
    },
    {
      "cell_type": "code",
      "source": [
        "def f2_ratio(sigma2=1, theta = 0, w = 60):\n",
        "    f2 = truncnorm(0, (1-theta)/sigma2, theta, sigma2)\n",
        "    m = f2.pdf(theta)\n",
        "    n = f2.pdf(1)\n",
        "    return (m/n-w)**2\n",
        "sigma_60 = minimize_scalar(f2_ratio, bounds=(.001, 1), method='bounded').x\n",
        "y_60 = TN(x, lower=0, upper=1, mu=0, sigma=sigma_60)\n",
        "df_60 = pd.DataFrame([list(x), [int(60)]*len(x), list(y_60)]).T"
      ],
      "metadata": {
        "id": "SUZrlEBn4mL7"
      },
      "execution_count": null,
      "outputs": []
    },
    {
      "cell_type": "code",
      "source": [
        "def f2_ratio(sigma2=1, theta = 0, w = 70):\n",
        "    f2 = truncnorm(0, (1-theta)/sigma2, theta, sigma2)\n",
        "    m = f2.pdf(theta)\n",
        "    n = f2.pdf(1)\n",
        "    return (m/n-w)**2\n",
        "sigma_70 = minimize_scalar(f2_ratio, bounds=(.001, 1), method='bounded').x\n",
        "y_70 = TN(x, lower=0, upper=1, mu=0, sigma=sigma_70)\n",
        "df_70 = pd.DataFrame([list(x), [int(70)]*len(x), list(y_70)]).T"
      ],
      "metadata": {
        "id": "EbjoRXm5Ht2w"
      },
      "execution_count": null,
      "outputs": []
    },
    {
      "cell_type": "code",
      "source": [
        "def f2_ratio(sigma2=1, theta = 0, w = 80):\n",
        "    f2 = truncnorm(0, (1-theta)/sigma2, theta, sigma2)\n",
        "    m = f2.pdf(theta)\n",
        "    n = f2.pdf(1)\n",
        "    return (m/n-w)**2\n",
        "sigma_80 = minimize_scalar(f2_ratio, bounds=(.001, 1), method='bounded').x\n",
        "y_80 = TN(x, lower=0, upper=1, mu=0, sigma=sigma_80)\n",
        "df_80 = pd.DataFrame([list(x), [int(80)]*len(x), list(y_80)]).T"
      ],
      "metadata": {
        "id": "phdLfL8K6r3t"
      },
      "execution_count": null,
      "outputs": []
    },
    {
      "cell_type": "code",
      "source": [
        "df = pd.concat([df_5, df_10, df_20, df_50, df_80])"
      ],
      "metadata": {
        "id": "lUdY_jhhqja5"
      },
      "execution_count": null,
      "outputs": []
    },
    {
      "cell_type": "code",
      "source": [
        "df.columns = ['Utility', 'Contrast', 'Cost']\n",
        "# df = df.assign(values = pd.Categorical(df['Contrast'], [5, 10, 15, 20, 30, 40, 50, 60, 70, 80]))\n",
        "# palette=('#a50026','#d73027','#f46d43','#fdae61','#fee090','#abd9e9','#74add1','#4575b4','#313695')\n",
        "palette=('#a50026','#d73027','#74add1','#4575b4','#313695')\n"
      ],
      "metadata": {
        "id": "i3MNSAwDqkfv"
      },
      "execution_count": null,
      "outputs": []
    },
    {
      "cell_type": "code",
      "source": [
        "p = (ggplot(df, aes(x='Utility', y='Cost', color='factor(Contrast)'))\n",
        "    + geom_point(size=.2)\n",
        "    + theme_bw()\n",
        "\t+ scale_color_manual(values=palette)\n",
        "    + labs(color='contrast')\n",
        "    # + theme(legend_position=\"bottom\")\n",
        "    + theme(legend_box='horizontal',\n",
        "\t\t\t# legend_position='bottom',\n",
        "\t\t\taxis_text_y=element_text(angle=90),\n",
        "\t\t\tfigure_size=(8, 5),\n",
        "\t\t\tlegend_box_spacing=0,\n",
        "\t\t\t# strip_text_y=element_text(size=8),\n",
        "            # strip_text_x=element_text(size=8),\n",
        "\t\t\tlegend_title=element_text(size=7),\n",
        "    \t\tlegend_text=element_text(size=7),\n",
        "    \t\tplot_margin=0.1,\n",
        "    \t\tlegend_margin=-1,\n",
        "    \t\tlegend_position=(0.83, .72),\n",
        "            )\n",
        "    + guides(color=guide_legend(ncol=1, byrow=False))\n",
        "    # + scale_color_brewer(palette='YlOrRd')\n",
        "\n",
        "\n",
        "#     + geom_point(size=.1, alpha=.1)\n",
        "   )"
      ],
      "metadata": {
        "id": "H7QJRbJrr7jQ"
      },
      "execution_count": null,
      "outputs": []
    },
    {
      "cell_type": "code",
      "source": [
        "p"
      ],
      "metadata": {
        "colab": {
          "base_uri": "https://localhost:8080/",
          "height": 494
        },
        "id": "TEvPzKAXseHl",
        "outputId": "8e6f5fc9-ca00-41a0-8e7d-20139b498221"
      },
      "execution_count": null,
      "outputs": [
        {
          "output_type": "display_data",
          "data": {
            "text/plain": [
              "<Figure size 800x500 with 1 Axes>"
            ],
            "image/png": "[encoded data removed]"
          },
          "metadata": {}
        },
        {
          "output_type": "execute_result",
          "data": {
            "text/plain": [
              "<ggplot: (8757425934659)>"
            ]
          },
          "metadata": {},
          "execution_count": 23
        }
      ]
    },
    {
      "cell_type": "code",
      "source": [
        "p.save('contrast.pdf', dpi=300)"
      ],
      "metadata": {
        "id": "hxcDTMgqvooI",
        "colab": {
          "base_uri": "https://localhost:8080/"
        },
        "outputId": "1eb9ca41-2290-4e7c-a55a-08bdc86dc38c"
      },
      "execution_count": null,
      "outputs": [
        {
          "output_type": "stream",
          "name": "stderr",
          "text": [
            "/usr/local/lib/python3.8/dist-packages/plotnine/ggplot.py:719: PlotnineWarning: Saving 8 x 5 in image.\n",
            "/usr/local/lib/python3.8/dist-packages/plotnine/ggplot.py:722: PlotnineWarning: Filename: contrast.pdf\n"
          ]
        }
      ]
    },
    {
      "cell_type": "code",
      "source": [
        "import plotnine\n",
        "plotnine.__version__"
      ],
      "metadata": {
        "id": "a8kRybaB3oHE",
        "colab": {
          "base_uri": "https://localhost:8080/",
          "height": 35
        },
        "outputId": "fc2ca71b-9f89-4f3e-ab00-bd55a2f3b7bf"
      },
      "execution_count": null,
      "outputs": [
        {
          "output_type": "execute_result",
          "data": {
            "text/plain": [
              "'0.8.0'"
            ],
            "application/vnd.google.colaboratory.intrinsic+json": {
              "type": "string"
            }
          },
          "metadata": {},
          "execution_count": 20
        }
      ]
    },
    {
      "cell_type": "code",
      "source": [
        "df = pd.read_csv('ndcg_overall.csv', header=0, index_col=None)\n",
        "df.head()\n",
        "# df['contrast'] = pd.Categorical(df['contrast'],\n",
        "#                              ordered=True,\n",
        "#                              categories=[5, 10, 20, 30, 40, 50, 60, 70, 80])"
      ],
      "metadata": {
        "colab": {
          "base_uri": "https://localhost:8080/",
          "height": 398
        },
        "id": "fecZ3dPHFysL",
        "outputId": "c6d6a2a0-3cd3-4eff-c2d5-5f37a415514a"
      },
      "execution_count": null,
      "outputs": [
        {
          "output_type": "error",
          "ename": "FileNotFoundError",
          "evalue": "ignored",
          "traceback": [
            "\u001b[0;31m---------------------------------------------------------------------------\u001b[0m",
            "\u001b[0;31mFileNotFoundError\u001b[0m                         Traceback (most recent call last)",
            "\u001b[0;32m<ipython-input-21-64508e6700ca>\u001b[0m in \u001b[0;36m<module>\u001b[0;34m\u001b[0m\n\u001b[0;32m----> 1\u001b[0;31m \u001b[0mdf\u001b[0m \u001b[0;34m=\u001b[0m \u001b[0mpd\u001b[0m\u001b[0;34m.\u001b[0m\u001b[0mread_csv\u001b[0m\u001b[0;34m(\u001b[0m\u001b[0;34m'ndcg_overall.csv'\u001b[0m\u001b[0;34m,\u001b[0m \u001b[0mheader\u001b[0m\u001b[0;34m=\u001b[0m\u001b[0;36m0\u001b[0m\u001b[0;34m,\u001b[0m \u001b[0mindex_col\u001b[0m\u001b[0;34m=\u001b[0m\u001b[0;32mNone\u001b[0m\u001b[0;34m)\u001b[0m\u001b[0;34m\u001b[0m\u001b[0;34m\u001b[0m\u001b[0m\n\u001b[0m\u001b[1;32m      2\u001b[0m \u001b[0mdf\u001b[0m\u001b[0;34m.\u001b[0m\u001b[0mhead\u001b[0m\u001b[0;34m(\u001b[0m\u001b[0;34m)\u001b[0m\u001b[0;34m\u001b[0m\u001b[0;34m\u001b[0m\u001b[0m\n\u001b[1;32m      3\u001b[0m \u001b[0;31m# df['contrast'] = pd.Categorical(df['contrast'],\u001b[0m\u001b[0;34m\u001b[0m\u001b[0;34m\u001b[0m\u001b[0;34m\u001b[0m\u001b[0m\n\u001b[1;32m      4\u001b[0m \u001b[0;31m#                              ordered=True,\u001b[0m\u001b[0;34m\u001b[0m\u001b[0;34m\u001b[0m\u001b[0;34m\u001b[0m\u001b[0m\n\u001b[1;32m      5\u001b[0m \u001b[0;31m#                              categories=[5, 10, 20, 30, 40, 50, 60, 70, 80])\u001b[0m\u001b[0;34m\u001b[0m\u001b[0;34m\u001b[0m\u001b[0;34m\u001b[0m\u001b[0m\n",
            "\u001b[0;32m/usr/local/lib/python3.8/dist-packages/pandas/util/_decorators.py\u001b[0m in \u001b[0;36mwrapper\u001b[0;34m(*args, **kwargs)\u001b[0m\n\u001b[1;32m    309\u001b[0m                     \u001b[0mstacklevel\u001b[0m\u001b[0;34m=\u001b[0m\u001b[0mstacklevel\u001b[0m\u001b[0;34m,\u001b[0m\u001b[0;34m\u001b[0m\u001b[0;34m\u001b[0m\u001b[0m\n\u001b[1;32m    310\u001b[0m                 )\n\u001b[0;32m--> 311\u001b[0;31m             \u001b[0;32mreturn\u001b[0m \u001b[0mfunc\u001b[0m\u001b[0;34m(\u001b[0m\u001b[0;34m*\u001b[0m\u001b[0margs\u001b[0m\u001b[0;34m,\u001b[0m \u001b[0;34m**\u001b[0m\u001b[0mkwargs\u001b[0m\u001b[0;34m)\u001b[0m\u001b[0;34m\u001b[0m\u001b[0;34m\u001b[0m\u001b[0m\n\u001b[0m\u001b[1;32m    312\u001b[0m \u001b[0;34m\u001b[0m\u001b[0m\n\u001b[1;32m    313\u001b[0m         \u001b[0;32mreturn\u001b[0m \u001b[0mwrapper\u001b[0m\u001b[0;34m\u001b[0m\u001b[0;34m\u001b[0m\u001b[0m\n",
            "\u001b[0;32m/usr/local/lib/python3.8/dist-packages/pandas/io/parsers/readers.py\u001b[0m in \u001b[0;36mread_csv\u001b[0;34m(filepath_or_buffer, sep, delimiter, header, names, index_col, usecols, squeeze, prefix, mangle_dupe_cols, dtype, engine, converters, true_values, false_values, skipinitialspace, skiprows, skipfooter, nrows, na_values, keep_default_na, na_filter, verbose, skip_blank_lines, parse_dates, infer_datetime_format, keep_date_col, date_parser, dayfirst, cache_dates, iterator, chunksize, compression, thousands, decimal, lineterminator, quotechar, quoting, doublequote, escapechar, comment, encoding, encoding_errors, dialect, error_bad_lines, warn_bad_lines, on_bad_lines, delim_whitespace, low_memory, memory_map, float_precision, storage_options)\u001b[0m\n\u001b[1;32m    584\u001b[0m     \u001b[0mkwds\u001b[0m\u001b[0;34m.\u001b[0m\u001b[0mupdate\u001b[0m\u001b[0;34m(\u001b[0m\u001b[0mkwds_defaults\u001b[0m\u001b[0;34m)\u001b[0m\u001b[0;34m\u001b[0m\u001b[0;34m\u001b[0m\u001b[0m\n\u001b[1;32m    585\u001b[0m \u001b[0;34m\u001b[0m\u001b[0m\n\u001b[0;32m--> 586\u001b[0;31m     \u001b[0;32mreturn\u001b[0m \u001b[0m_read\u001b[0m\u001b[0;34m(\u001b[0m\u001b[0mfilepath_or_buffer\u001b[0m\u001b[0;34m,\u001b[0m \u001b[0mkwds\u001b[0m\u001b[0;34m)\u001b[0m\u001b[0;34m\u001b[0m\u001b[0;34m\u001b[0m\u001b[0m\n\u001b[0m\u001b[1;32m    587\u001b[0m \u001b[0;34m\u001b[0m\u001b[0m\n\u001b[1;32m    588\u001b[0m \u001b[0;34m\u001b[0m\u001b[0m\n",
            "\u001b[0;32m/usr/local/lib/python3.8/dist-packages/pandas/io/parsers/readers.py\u001b[0m in \u001b[0;36m_read\u001b[0;34m(filepath_or_buffer, kwds)\u001b[0m\n\u001b[1;32m    480\u001b[0m \u001b[0;34m\u001b[0m\u001b[0m\n\u001b[1;32m    481\u001b[0m     \u001b[0;31m# Create the parser.\u001b[0m\u001b[0;34m\u001b[0m\u001b[0;34m\u001b[0m\u001b[0;34m\u001b[0m\u001b[0m\n\u001b[0;32m--> 482\u001b[0;31m     \u001b[0mparser\u001b[0m \u001b[0;34m=\u001b[0m \u001b[0mTextFileReader\u001b[0m\u001b[0;34m(\u001b[0m\u001b[0mfilepath_or_buffer\u001b[0m\u001b[0;34m,\u001b[0m \u001b[0;34m**\u001b[0m\u001b[0mkwds\u001b[0m\u001b[0;34m)\u001b[0m\u001b[0;34m\u001b[0m\u001b[0;34m\u001b[0m\u001b[0m\n\u001b[0m\u001b[1;32m    483\u001b[0m \u001b[0;34m\u001b[0m\u001b[0m\n\u001b[1;32m    484\u001b[0m     \u001b[0;32mif\u001b[0m \u001b[0mchunksize\u001b[0m \u001b[0;32mor\u001b[0m \u001b[0miterator\u001b[0m\u001b[0;34m:\u001b[0m\u001b[0;34m\u001b[0m\u001b[0;34m\u001b[0m\u001b[0m\n",
            "\u001b[0;32m/usr/local/lib/python3.8/dist-packages/pandas/io/parsers/readers.py\u001b[0m in \u001b[0;36m__init__\u001b[0;34m(self, f, engine, **kwds)\u001b[0m\n\u001b[1;32m    809\u001b[0m             \u001b[0mself\u001b[0m\u001b[0;34m.\u001b[0m\u001b[0moptions\u001b[0m\u001b[0;34m[\u001b[0m\u001b[0;34m\"has_index_names\"\u001b[0m\u001b[0;34m]\u001b[0m \u001b[0;34m=\u001b[0m \u001b[0mkwds\u001b[0m\u001b[0;34m[\u001b[0m\u001b[0;34m\"has_index_names\"\u001b[0m\u001b[0;34m]\u001b[0m\u001b[0;34m\u001b[0m\u001b[0;34m\u001b[0m\u001b[0m\n\u001b[1;32m    810\u001b[0m \u001b[0;34m\u001b[0m\u001b[0m\n\u001b[0;32m--> 811\u001b[0;31m         \u001b[0mself\u001b[0m\u001b[0;34m.\u001b[0m\u001b[0m_engine\u001b[0m \u001b[0;34m=\u001b[0m \u001b[0mself\u001b[0m\u001b[0;34m.\u001b[0m\u001b[0m_make_engine\u001b[0m\u001b[0;34m(\u001b[0m\u001b[0mself\u001b[0m\u001b[0;34m.\u001b[0m\u001b[0mengine\u001b[0m\u001b[0;34m)\u001b[0m\u001b[0;34m\u001b[0m\u001b[0;34m\u001b[0m\u001b[0m\n\u001b[0m\u001b[1;32m    812\u001b[0m \u001b[0;34m\u001b[0m\u001b[0m\n\u001b[1;32m    813\u001b[0m     \u001b[0;32mdef\u001b[0m \u001b[0mclose\u001b[0m\u001b[0;34m(\u001b[0m\u001b[0mself\u001b[0m\u001b[0;34m)\u001b[0m\u001b[0;34m:\u001b[0m\u001b[0;34m\u001b[0m\u001b[0;34m\u001b[0m\u001b[0m\n",
            "\u001b[0;32m/usr/local/lib/python3.8/dist-packages/pandas/io/parsers/readers.py\u001b[0m in \u001b[0;36m_make_engine\u001b[0;34m(self, engine)\u001b[0m\n\u001b[1;32m   1038\u001b[0m             )\n\u001b[1;32m   1039\u001b[0m         \u001b[0;31m# error: Too many arguments for \"ParserBase\"\u001b[0m\u001b[0;34m\u001b[0m\u001b[0;34m\u001b[0m\u001b[0;34m\u001b[0m\u001b[0m\n\u001b[0;32m-> 1040\u001b[0;31m         \u001b[0;32mreturn\u001b[0m \u001b[0mmapping\u001b[0m\u001b[0;34m[\u001b[0m\u001b[0mengine\u001b[0m\u001b[0;34m]\u001b[0m\u001b[0;34m(\u001b[0m\u001b[0mself\u001b[0m\u001b[0;34m.\u001b[0m\u001b[0mf\u001b[0m\u001b[0;34m,\u001b[0m \u001b[0;34m**\u001b[0m\u001b[0mself\u001b[0m\u001b[0;34m.\u001b[0m\u001b[0moptions\u001b[0m\u001b[0;34m)\u001b[0m  \u001b[0;31m# type: ignore[call-arg]\u001b[0m\u001b[0;34m\u001b[0m\u001b[0;34m\u001b[0m\u001b[0m\n\u001b[0m\u001b[1;32m   1041\u001b[0m \u001b[0;34m\u001b[0m\u001b[0m\n\u001b[1;32m   1042\u001b[0m     \u001b[0;32mdef\u001b[0m \u001b[0m_failover_to_python\u001b[0m\u001b[0;34m(\u001b[0m\u001b[0mself\u001b[0m\u001b[0;34m)\u001b[0m\u001b[0;34m:\u001b[0m\u001b[0;34m\u001b[0m\u001b[0;34m\u001b[0m\u001b[0m\n",
            "\u001b[0;32m/usr/local/lib/python3.8/dist-packages/pandas/io/parsers/c_parser_wrapper.py\u001b[0m in \u001b[0;36m__init__\u001b[0;34m(self, src, **kwds)\u001b[0m\n\u001b[1;32m     49\u001b[0m \u001b[0;34m\u001b[0m\u001b[0m\n\u001b[1;32m     50\u001b[0m         \u001b[0;31m# open handles\u001b[0m\u001b[0;34m\u001b[0m\u001b[0;34m\u001b[0m\u001b[0;34m\u001b[0m\u001b[0m\n\u001b[0;32m---> 51\u001b[0;31m         \u001b[0mself\u001b[0m\u001b[0;34m.\u001b[0m\u001b[0m_open_handles\u001b[0m\u001b[0;34m(\u001b[0m\u001b[0msrc\u001b[0m\u001b[0;34m,\u001b[0m \u001b[0mkwds\u001b[0m\u001b[0;34m)\u001b[0m\u001b[0;34m\u001b[0m\u001b[0;34m\u001b[0m\u001b[0m\n\u001b[0m\u001b[1;32m     52\u001b[0m         \u001b[0;32massert\u001b[0m \u001b[0mself\u001b[0m\u001b[0;34m.\u001b[0m\u001b[0mhandles\u001b[0m \u001b[0;32mis\u001b[0m \u001b[0;32mnot\u001b[0m \u001b[0;32mNone\u001b[0m\u001b[0;34m\u001b[0m\u001b[0;34m\u001b[0m\u001b[0m\n\u001b[1;32m     53\u001b[0m \u001b[0;34m\u001b[0m\u001b[0m\n",
            "\u001b[0;32m/usr/local/lib/python3.8/dist-packages/pandas/io/parsers/base_parser.py\u001b[0m in \u001b[0;36m_open_handles\u001b[0;34m(self, src, kwds)\u001b[0m\n\u001b[1;32m    220\u001b[0m         \u001b[0mLet\u001b[0m \u001b[0mthe\u001b[0m \u001b[0mreaders\u001b[0m \u001b[0mopen\u001b[0m \u001b[0mIOHandles\u001b[0m \u001b[0mafter\u001b[0m \u001b[0mthey\u001b[0m \u001b[0mare\u001b[0m \u001b[0mdone\u001b[0m \u001b[0;32mwith\u001b[0m \u001b[0mtheir\u001b[0m \u001b[0mpotential\u001b[0m \u001b[0mraises\u001b[0m\u001b[0;34m.\u001b[0m\u001b[0;34m\u001b[0m\u001b[0;34m\u001b[0m\u001b[0m\n\u001b[1;32m    221\u001b[0m         \"\"\"\n\u001b[0;32m--> 222\u001b[0;31m         self.handles = get_handle(\n\u001b[0m\u001b[1;32m    223\u001b[0m             \u001b[0msrc\u001b[0m\u001b[0;34m,\u001b[0m\u001b[0;34m\u001b[0m\u001b[0;34m\u001b[0m\u001b[0m\n\u001b[1;32m    224\u001b[0m             \u001b[0;34m\"r\"\u001b[0m\u001b[0;34m,\u001b[0m\u001b[0;34m\u001b[0m\u001b[0;34m\u001b[0m\u001b[0m\n",
            "\u001b[0;32m/usr/local/lib/python3.8/dist-packages/pandas/io/common.py\u001b[0m in \u001b[0;36mget_handle\u001b[0;34m(path_or_buf, mode, encoding, compression, memory_map, is_text, errors, storage_options)\u001b[0m\n\u001b[1;32m    700\u001b[0m         \u001b[0;32mif\u001b[0m \u001b[0mioargs\u001b[0m\u001b[0;34m.\u001b[0m\u001b[0mencoding\u001b[0m \u001b[0;32mand\u001b[0m \u001b[0;34m\"b\"\u001b[0m \u001b[0;32mnot\u001b[0m \u001b[0;32min\u001b[0m \u001b[0mioargs\u001b[0m\u001b[0;34m.\u001b[0m\u001b[0mmode\u001b[0m\u001b[0;34m:\u001b[0m\u001b[0;34m\u001b[0m\u001b[0;34m\u001b[0m\u001b[0m\n\u001b[1;32m    701\u001b[0m             \u001b[0;31m# Encoding\u001b[0m\u001b[0;34m\u001b[0m\u001b[0;34m\u001b[0m\u001b[0;34m\u001b[0m\u001b[0m\n\u001b[0;32m--> 702\u001b[0;31m             handle = open(\n\u001b[0m\u001b[1;32m    703\u001b[0m                 \u001b[0mhandle\u001b[0m\u001b[0;34m,\u001b[0m\u001b[0;34m\u001b[0m\u001b[0;34m\u001b[0m\u001b[0m\n\u001b[1;32m    704\u001b[0m                 \u001b[0mioargs\u001b[0m\u001b[0;34m.\u001b[0m\u001b[0mmode\u001b[0m\u001b[0;34m,\u001b[0m\u001b[0;34m\u001b[0m\u001b[0;34m\u001b[0m\u001b[0m\n",
            "\u001b[0;31mFileNotFoundError\u001b[0m: [Errno 2] No such file or directory: 'ndcg_overall.csv'"
          ]
        }
      ]
    },
    {
      "cell_type": "code",
      "source": [
        "p = (\n",
        "    ggplot(df.query('color == \"cost-sensitive FM\"'), aes(x='contrast',y='nDCG'))\n",
        "    + geom_line(aes(color = ['cost-sensitive FM']))\n",
        "    + geom_point(aes(color = ['cost-sensitive FM']))\n",
        "    + geom_hline(df.query('color == \"vanilla FM\"'), aes(color = ['vanilla FM'], yintercept = 'nDCG'))\n",
        "    + facet_wrap('dataset', scales='free_y')\n",
        "    + theme_bw()\n",
        "\t+ theme(\n",
        "\t\taxis_text_y=element_text(angle=90, size=7),\n",
        "\t\tsubplots_adjust={'wspace':0.1},\n",
        "        legend_title=element_text(size=7),\n",
        "        legend_text=element_text(size=7),\n",
        "        # plot_margin=0\n",
        "        plot_margin=0.1,\n",
        "        legend_margin=-1,\n",
        "        legend_position=(.5, 0),\n",
        "\t\t)\n",
        "    + labs(color='contrast')\n",
        "    + scale_color_manual(values = {'cost-sensitive FM':'red','vanilla FM':'black'})\n",
        ")"
      ],
      "metadata": {
        "id": "alrnxxYHF-ZB"
      },
      "execution_count": null,
      "outputs": []
    },
    {
      "cell_type": "code",
      "source": [
        "p"
      ],
      "metadata": {
        "id": "Qp9r4hIJGOF1"
      },
      "execution_count": null,
      "outputs": []
    },
    {
      "cell_type": "code",
      "source": [],
      "metadata": {
        "id": "HYWNJOtHLXvu"
      },
      "execution_count": null,
      "outputs": []
    }
  ]
}